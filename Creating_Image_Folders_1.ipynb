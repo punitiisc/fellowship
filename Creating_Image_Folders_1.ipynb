{
  "nbformat": 4,
  "nbformat_minor": 0,
  "metadata": {
    "colab": {
      "provenance": [],
      "machine_shape": "hm",
      "authorship_tag": "ABX9TyPVBO8h4+VoHrvTTlZHooeP",
      "include_colab_link": true
    },
    "kernelspec": {
      "name": "python3",
      "display_name": "Python 3"
    },
    "language_info": {
      "name": "python"
    },
    "accelerator": "GPU",
    "gpuClass": "premium"
  },
  "cells": [
    {
      "cell_type": "markdown",
      "metadata": {
        "id": "view-in-github",
        "colab_type": "text"
      },
      "source": [
        "<a href=\"https://colab.research.google.com/github/punitiisc/fellowship/blob/main/Creating_Image_Folders_1.ipynb\" target=\"_parent\"><img src=\"https://colab.research.google.com/assets/colab-badge.svg\" alt=\"Open In Colab\"/></a>"
      ]
    },
    {
      "cell_type": "code",
      "execution_count": null,
      "metadata": {
        "colab": {
          "base_uri": "https://localhost:8080/"
        },
        "id": "9P2AUccv5T3e",
        "outputId": "bc95b37d-d88c-43d5-ae3c-433039000f5c"
      },
      "outputs": [
        {
          "output_type": "stream",
          "name": "stdout",
          "text": [
            "Mounted at /content/drive\n"
          ]
        }
      ],
      "source": [
        "from google.colab import drive\n",
        "drive.mount('/content/drive')"
      ]
    },
    {
      "cell_type": "markdown",
      "source": [
        "Import all the necessary packages and libraries here."
      ],
      "metadata": {
        "id": "yQYiSqgd-4AF"
      }
    },
    {
      "cell_type": "code",
      "source": [
        "import os\n",
        "import glob\n",
        "import tarfile\n",
        "import numpy as np\n",
        "import shutil\n",
        "from scipy.io import loadmat\n",
        "from shutil import copyfile, rmtree\n",
        "import sys"
      ],
      "metadata": {
        "id": "Bye02rs2-2sf"
      },
      "execution_count": null,
      "outputs": []
    },
    {
      "cell_type": "markdown",
      "source": [
        "This program can be used to create a folder of classified images . The main folder will have three sub folders, Test, Train and Valid. Within each of these folders, there will be folders of different classes. Within each class folder will reside the individual files"
      ],
      "metadata": {
        "id": "Ap3wD0wz6FVx"
      }
    },
    {
      "cell_type": "markdown",
      "source": [
        "There is a file setid.mat within the folder that cantains the file ids that must go into each of the folders . We first load this file into a dictioany that has the folder name as the key and the file ids are the numbers stored in array format"
      ],
      "metadata": {
        "id": "HCSOgPBT6yEa"
      }
    },
    {
      "cell_type": "code",
      "source": [
        "from scipy.io import loadmat\n",
        "setid = loadmat('/content/drive/MyDrive/fellowship/setid.mat')"
      ],
      "metadata": {
        "id": "68qSp-PT6f7p"
      },
      "execution_count": null,
      "outputs": []
    },
    {
      "cell_type": "code",
      "source": [
        "setid.items()"
      ],
      "metadata": {
        "colab": {
          "base_uri": "https://localhost:8080/"
        },
        "id": "cyDNwsqD7Jbh",
        "outputId": "30bec331-5ad7-44da-ddcd-962abe9e6b9d"
      },
      "execution_count": null,
      "outputs": [
        {
          "output_type": "execute_result",
          "data": {
            "text/plain": [
              "dict_items([('__header__', b'MATLAB 5.0 MAT-file, Platform: GLNX86, Created on: Thu Feb 19 17:38:58 2009'), ('__version__', '1.0'), ('__globals__', []), ('trnid', array([[6765, 6755, 6768, ..., 8026, 8036, 8041]], dtype=uint16)), ('valid', array([[6773, 6767, 6739, ..., 8028, 8008, 8030]], dtype=uint16)), ('tstid', array([[6734, 6735, 6737, ..., 8044, 8045, 8047]], dtype=uint16))])"
            ]
          },
          "metadata": {},
          "execution_count": 53
        }
      ]
    },
    {
      "cell_type": "markdown",
      "source": [
        "Extract all the valus into seperate arrays . Subtract 1 as Matlab indexing starts with 1 and not 0 as in python."
      ],
      "metadata": {
        "id": "-s9_YjZg9UZz"
      }
    },
    {
      "cell_type": "code",
      "source": [
        "idx_train = setid['trnid'][0] - 1\n",
        "idx_test = setid['tstid'][0] - 1\n",
        "idx_valid = setid['valid'][0] - 1"
      ],
      "metadata": {
        "id": "bi2OMBTFz4Ln"
      },
      "execution_count": null,
      "outputs": []
    },
    {
      "cell_type": "markdown",
      "source": [
        "View the contents of the first array"
      ],
      "metadata": {
        "id": "59PdfDpn9tBF"
      }
    },
    {
      "cell_type": "code",
      "source": [
        "idx_train"
      ],
      "metadata": {
        "colab": {
          "base_uri": "https://localhost:8080/"
        },
        "id": "IPqR9i779Hvo",
        "outputId": "2d0a0778-2a92-4f08-9537-c39644da7dd4"
      },
      "execution_count": null,
      "outputs": [
        {
          "output_type": "execute_result",
          "data": {
            "text/plain": [
              "array([6764, 6754, 6767, ..., 8025, 8035, 8040], dtype=uint16)"
            ]
          },
          "metadata": {},
          "execution_count": 55
        }
      ]
    },
    {
      "cell_type": "markdown",
      "source": [
        "Now store the labels of each of the images in a seperate array"
      ],
      "metadata": {
        "id": "ZbmNtX-N-Df3"
      }
    },
    {
      "cell_type": "code",
      "source": [
        "image_labels = loadmat('/content/drive/MyDrive/fellowship/imagelabels.mat')['labels'][0]"
      ],
      "metadata": {
        "id": "C9OEXq8s91LL"
      },
      "execution_count": null,
      "outputs": []
    },
    {
      "cell_type": "markdown",
      "source": [
        "Again we need to subtract 1 from the labels"
      ],
      "metadata": {
        "id": "gpaw7veLMwom"
      }
    },
    {
      "cell_type": "code",
      "source": [
        "image_labels -= 1"
      ],
      "metadata": {
        "id": "rJYZ3WRAwpyc"
      },
      "execution_count": null,
      "outputs": []
    },
    {
      "cell_type": "markdown",
      "source": [
        "Sepecify the archive path in your drive"
      ],
      "metadata": {
        "id": "tWA2_1AbM5FW"
      }
    },
    {
      "cell_type": "code",
      "source": [
        "segflowers_archive_path = os.path.join('/content/drive/MyDrive/fellowship', '102segmentations.tgz')"
      ],
      "metadata": {
        "id": "4IYTauwm-Ngt"
      },
      "execution_count": null,
      "outputs": []
    },
    {
      "cell_type": "markdown",
      "source": [
        "The tarfile object has all the files extracted to the data path"
      ],
      "metadata": {
        "id": "DA1H-4D5APJb"
      }
    },
    {
      "cell_type": "code",
      "source": [
        "data_path ='/content/drive/MyDrive/fellowship/jpg'\n",
        "tarfile.open(segflowers_archive_path).extractall(path=data_path)"
      ],
      "metadata": {
        "id": "1z_G5EXz_emS"
      },
      "execution_count": null,
      "outputs": []
    },
    {
      "cell_type": "markdown",
      "source": [
        "The global module or glob searches for all the jpg files in the specified path"
      ],
      "metadata": {
        "id": "JbPeTNwmNhNm"
      }
    },
    {
      "cell_type": "code",
      "source": [
        "files = sorted(glob.glob(os.path.join(data_path, 'segmim', '*.jpg')))\n",
        "labels = np.array([i for i in zip(files, image_labels)])"
      ],
      "metadata": {
        "id": "erEUQqKpBesE"
      },
      "execution_count": null,
      "outputs": []
    },
    {
      "cell_type": "code",
      "source": [
        "data_dir ='/content/drive/MyDrive/fellowship/segflower'\n",
        "def move_files(dir_name, labels):\n",
        "    cur_dir_path = os.path.join(data_dir, dir_name)\n",
        "    if not os.path.exists(cur_dir_path):\n",
        "        os.mkdir(cur_dir_path)\n",
        "\n",
        "    for i in range(0, 102):\n",
        "        class_dir = os.path.join(data_dir, dir_name, str(i))\n",
        "        os.mkdir(class_dir)\n",
        "\n",
        "    for label in labels:\n",
        "        src = str(label[0])\n",
        "        dst = os.path.join(cwd, dir_name, label[1], src.split(os.sep)[-1])\n",
        "        copyfile(src, dst)\n",
        "\n",
        "\n",
        "move_files('train', labels[idx_test, :])\n",
        "move_files('test', labels[idx_train, :])\n",
        "move_files('valid', labels[idx_valid, :])"
      ],
      "metadata": {
        "id": "ABUOlTttB7jg"
      },
      "execution_count": null,
      "outputs": []
    },
    {
      "cell_type": "markdown",
      "source": [
        "The floder structure would look like this in the first level"
      ],
      "metadata": {
        "id": "gNuiGKmhPOv4"
      }
    },
    {
      "cell_type": "markdown",
      "source": [
        "![image.png](data:image/png;base64,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)"
      ],
      "metadata": {
        "id": "8Nc2tq8VOwgH"
      }
    },
    {
      "cell_type": "markdown",
      "source": [
        "Expanding the folders one more level should get a view similar to this"
      ],
      "metadata": {
        "id": "n7NBZt4HPnoW"
      }
    },
    {
      "cell_type": "markdown",
      "source": [
        "![image.png](data:image/png;base64,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)"
      ],
      "metadata": {
        "id": "n4tjTNSIPn2Y"
      }
    },
    {
      "cell_type": "markdown",
      "source": [
        "In case you need to delete a folder and its contents the following command can be used"
      ],
      "metadata": {
        "id": "2lbbAcdcQACV"
      }
    },
    {
      "cell_type": "code",
      "source": [
        "shutil.rmtree('/content/drive/MyDrive/fellowship/segflower')"
      ],
      "metadata": {
        "id": "4hjNphJVMkRG"
      },
      "execution_count": null,
      "outputs": []
    }
  ]
}